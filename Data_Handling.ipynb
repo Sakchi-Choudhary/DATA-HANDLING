{
  "nbformat": 4,
  "nbformat_minor": 0,
  "metadata": {
    "colab": {
      "name": "Data Handling.ipynb",
      "provenance": [],
      "collapsed_sections": []
    },
    "kernelspec": {
      "name": "python3",
      "display_name": "Python 3"
    }
  },
  "cells": [
    {
      "cell_type": "code",
      "metadata": {
        "id": "ifezI47HkdTP"
      },
      "source": [
        "import pandas as pd\n",
        "import numpy as np"
      ],
      "execution_count": null,
      "outputs": []
    },
    {
      "cell_type": "code",
      "metadata": {
        "id": "-62qhMG-kjkf",
        "colab": {
          "base_uri": "https://localhost:8080/",
          "height": 166
        },
        "outputId": "a3b54ae7-a719-4ad0-db34-e9ac5df3638b"
      },
      "source": [
        "df1 = pd.DataFrame({'employee': ['Bob', 'Jake', 'Lisa', 'Sue'],\n",
        "                    'group': ['Accounting', 'Engineering', 'Engineering', 'HR']})\n",
        "df2 = pd.DataFrame({'employee': ['Lisa', 'Bob', 'Jake', 'Sue'],\n",
        "                    'hire_date': [2004, 2008, 2012, 2014]})\n",
        "df3=pd.merge(df1,df2)\n",
        "df3"
      ],
      "execution_count": null,
      "outputs": [
        {
          "output_type": "execute_result",
          "data": {
            "text/html": [
              "<div>\n",
              "<style scoped>\n",
              "    .dataframe tbody tr th:only-of-type {\n",
              "        vertical-align: middle;\n",
              "    }\n",
              "\n",
              "    .dataframe tbody tr th {\n",
              "        vertical-align: top;\n",
              "    }\n",
              "\n",
              "    .dataframe thead th {\n",
              "        text-align: right;\n",
              "    }\n",
              "</style>\n",
              "<table border=\"1\" class=\"dataframe\">\n",
              "  <thead>\n",
              "    <tr style=\"text-align: right;\">\n",
              "      <th></th>\n",
              "      <th>employee</th>\n",
              "      <th>group</th>\n",
              "      <th>hire_date</th>\n",
              "    </tr>\n",
              "  </thead>\n",
              "  <tbody>\n",
              "    <tr>\n",
              "      <th>0</th>\n",
              "      <td>Bob</td>\n",
              "      <td>Accounting</td>\n",
              "      <td>2008</td>\n",
              "    </tr>\n",
              "    <tr>\n",
              "      <th>1</th>\n",
              "      <td>Jake</td>\n",
              "      <td>Engineering</td>\n",
              "      <td>2012</td>\n",
              "    </tr>\n",
              "    <tr>\n",
              "      <th>2</th>\n",
              "      <td>Lisa</td>\n",
              "      <td>Engineering</td>\n",
              "      <td>2004</td>\n",
              "    </tr>\n",
              "    <tr>\n",
              "      <th>3</th>\n",
              "      <td>Sue</td>\n",
              "      <td>HR</td>\n",
              "      <td>2014</td>\n",
              "    </tr>\n",
              "  </tbody>\n",
              "</table>\n",
              "</div>"
            ],
            "text/plain": [
              "  employee        group  hire_date\n",
              "0      Bob   Accounting       2008\n",
              "1     Jake  Engineering       2012\n",
              "2     Lisa  Engineering       2004\n",
              "3      Sue           HR       2014"
            ]
          },
          "metadata": {
            "tags": []
          },
          "execution_count": 3
        }
      ]
    },
    {
      "cell_type": "code",
      "metadata": {
        "id": "K906rEs5mP0W",
        "colab": {
          "base_uri": "https://localhost:8080/",
          "height": 336
        },
        "outputId": "222a47b5-eee3-4ade-e1f2-b40a471ac131"
      },
      "source": [
        "# Python Program illustrating \n",
        "# numpy.reshape() method \n",
        "  \n",
        "import numpy as geek \n",
        "  \n",
        "array = geek.arange(8) \n",
        "print(\"Original array : \\n\", array) \n",
        "  \n",
        "# shape array with 2 rows and 4 columns \n",
        "array = geek.arange(8).reshape(2, 4) \n",
        "print(\"\\narray reshaped with 2 rows and 4 columns : \\n\", array) \n",
        "  \n",
        "# shape array with 4 rows and 2 columns \n",
        "array = geek.arange(8).reshape(4 ,2) \n",
        "print(\"\\narray reshaped with 2 rows and 4 columns : \\n\", array) \n",
        "  \n",
        "# Constructs 3D array \n",
        "array = geek.arange(8).reshape(2, 2, 2) \n",
        "print(\"\\nOriginal array reshaped to 3D : \\n\", array) "
      ],
      "execution_count": null,
      "outputs": [
        {
          "output_type": "stream",
          "text": [
            "Original array : \n",
            " [0 1 2 3 4 5 6 7]\n",
            "\n",
            "array reshaped with 2 rows and 4 columns : \n",
            " [[0 1 2 3]\n",
            " [4 5 6 7]]\n",
            "\n",
            "array reshaped with 2 rows and 4 columns : \n",
            " [[0 1]\n",
            " [2 3]\n",
            " [4 5]\n",
            " [6 7]]\n",
            "\n",
            "Original array reshaped to 3D : \n",
            " [[[0 1]\n",
            "  [2 3]]\n",
            "\n",
            " [[4 5]\n",
            "  [6 7]]]\n"
          ],
          "name": "stdout"
        }
      ]
    },
    {
      "cell_type": "code",
      "metadata": {
        "id": "d5FZzQLGM3wR"
      },
      "source": [
        "import numpy as np\n"
      ],
      "execution_count": null,
      "outputs": []
    },
    {
      "cell_type": "code",
      "metadata": {
        "id": "qEwp0aZEM8G2",
        "colab": {
          "base_uri": "https://localhost:8080/",
          "height": 195
        },
        "outputId": "405de951-a2bf-452b-b291-822d2de35b6c"
      },
      "source": [
        "df=pd.read_excel(\"/content/sales-funnel.xlsx\")\n",
        "df.head()"
      ],
      "execution_count": null,
      "outputs": [
        {
          "output_type": "execute_result",
          "data": {
            "text/html": [
              "<div>\n",
              "<style scoped>\n",
              "    .dataframe tbody tr th:only-of-type {\n",
              "        vertical-align: middle;\n",
              "    }\n",
              "\n",
              "    .dataframe tbody tr th {\n",
              "        vertical-align: top;\n",
              "    }\n",
              "\n",
              "    .dataframe thead th {\n",
              "        text-align: right;\n",
              "    }\n",
              "</style>\n",
              "<table border=\"1\" class=\"dataframe\">\n",
              "  <thead>\n",
              "    <tr style=\"text-align: right;\">\n",
              "      <th></th>\n",
              "      <th>Account</th>\n",
              "      <th>Name</th>\n",
              "      <th>Rep</th>\n",
              "      <th>Manager</th>\n",
              "      <th>Product</th>\n",
              "      <th>Quantity</th>\n",
              "      <th>Price</th>\n",
              "      <th>Status</th>\n",
              "    </tr>\n",
              "  </thead>\n",
              "  <tbody>\n",
              "    <tr>\n",
              "      <th>0</th>\n",
              "      <td>714466</td>\n",
              "      <td>Trantow-Barrows</td>\n",
              "      <td>Craig Booker</td>\n",
              "      <td>Debra Henley</td>\n",
              "      <td>CPU</td>\n",
              "      <td>1</td>\n",
              "      <td>30000</td>\n",
              "      <td>presented</td>\n",
              "    </tr>\n",
              "    <tr>\n",
              "      <th>1</th>\n",
              "      <td>714466</td>\n",
              "      <td>Trantow-Barrows</td>\n",
              "      <td>Craig Booker</td>\n",
              "      <td>Debra Henley</td>\n",
              "      <td>Software</td>\n",
              "      <td>1</td>\n",
              "      <td>10000</td>\n",
              "      <td>presented</td>\n",
              "    </tr>\n",
              "    <tr>\n",
              "      <th>2</th>\n",
              "      <td>714466</td>\n",
              "      <td>Trantow-Barrows</td>\n",
              "      <td>Craig Booker</td>\n",
              "      <td>Debra Henley</td>\n",
              "      <td>Maintenance</td>\n",
              "      <td>2</td>\n",
              "      <td>5000</td>\n",
              "      <td>pending</td>\n",
              "    </tr>\n",
              "    <tr>\n",
              "      <th>3</th>\n",
              "      <td>737550</td>\n",
              "      <td>Fritsch, Russel and Anderson</td>\n",
              "      <td>Craig Booker</td>\n",
              "      <td>Debra Henley</td>\n",
              "      <td>CPU</td>\n",
              "      <td>1</td>\n",
              "      <td>35000</td>\n",
              "      <td>declined</td>\n",
              "    </tr>\n",
              "    <tr>\n",
              "      <th>4</th>\n",
              "      <td>146832</td>\n",
              "      <td>Kiehn-Spinka</td>\n",
              "      <td>Daniel Hilton</td>\n",
              "      <td>Debra Henley</td>\n",
              "      <td>CPU</td>\n",
              "      <td>2</td>\n",
              "      <td>65000</td>\n",
              "      <td>won</td>\n",
              "    </tr>\n",
              "  </tbody>\n",
              "</table>\n",
              "</div>"
            ],
            "text/plain": [
              "   Account                          Name  ...  Price     Status\n",
              "0   714466               Trantow-Barrows  ...  30000  presented\n",
              "1   714466               Trantow-Barrows  ...  10000  presented\n",
              "2   714466               Trantow-Barrows  ...   5000    pending\n",
              "3   737550  Fritsch, Russel and Anderson  ...  35000   declined\n",
              "4   146832                  Kiehn-Spinka  ...  65000        won\n",
              "\n",
              "[5 rows x 8 columns]"
            ]
          },
          "metadata": {
            "tags": []
          },
          "execution_count": 6
        }
      ]
    },
    {
      "cell_type": "code",
      "metadata": {
        "id": "F6EkmGyaO1ui",
        "colab": {
          "base_uri": "https://localhost:8080/",
          "height": 225
        },
        "outputId": "dbd4f83a-26b8-41f4-9f1c-8862ea09fb3f"
      },
      "source": [
        "pd.pivot_table(df,index=[\"Rep\"])"
      ],
      "execution_count": null,
      "outputs": [
        {
          "output_type": "execute_result",
          "data": {
            "text/html": [
              "<div>\n",
              "<style scoped>\n",
              "    .dataframe tbody tr th:only-of-type {\n",
              "        vertical-align: middle;\n",
              "    }\n",
              "\n",
              "    .dataframe tbody tr th {\n",
              "        vertical-align: top;\n",
              "    }\n",
              "\n",
              "    .dataframe thead th {\n",
              "        text-align: right;\n",
              "    }\n",
              "</style>\n",
              "<table border=\"1\" class=\"dataframe\">\n",
              "  <thead>\n",
              "    <tr style=\"text-align: right;\">\n",
              "      <th></th>\n",
              "      <th>Account</th>\n",
              "      <th>Price</th>\n",
              "      <th>Quantity</th>\n",
              "    </tr>\n",
              "    <tr>\n",
              "      <th>Rep</th>\n",
              "      <th></th>\n",
              "      <th></th>\n",
              "      <th></th>\n",
              "    </tr>\n",
              "  </thead>\n",
              "  <tbody>\n",
              "    <tr>\n",
              "      <th>Cedric Moss</th>\n",
              "      <td>196016.5</td>\n",
              "      <td>27500.000000</td>\n",
              "      <td>1.250000</td>\n",
              "    </tr>\n",
              "    <tr>\n",
              "      <th>Craig Booker</th>\n",
              "      <td>720237.0</td>\n",
              "      <td>20000.000000</td>\n",
              "      <td>1.250000</td>\n",
              "    </tr>\n",
              "    <tr>\n",
              "      <th>Daniel Hilton</th>\n",
              "      <td>194874.0</td>\n",
              "      <td>38333.333333</td>\n",
              "      <td>1.666667</td>\n",
              "    </tr>\n",
              "    <tr>\n",
              "      <th>John Smith</th>\n",
              "      <td>576220.0</td>\n",
              "      <td>20000.000000</td>\n",
              "      <td>1.500000</td>\n",
              "    </tr>\n",
              "    <tr>\n",
              "      <th>Wendy Yule</th>\n",
              "      <td>614061.5</td>\n",
              "      <td>44250.000000</td>\n",
              "      <td>3.000000</td>\n",
              "    </tr>\n",
              "  </tbody>\n",
              "</table>\n",
              "</div>"
            ],
            "text/plain": [
              "                Account         Price  Quantity\n",
              "Rep                                            \n",
              "Cedric Moss    196016.5  27500.000000  1.250000\n",
              "Craig Booker   720237.0  20000.000000  1.250000\n",
              "Daniel Hilton  194874.0  38333.333333  1.666667\n",
              "John Smith     576220.0  20000.000000  1.500000\n",
              "Wendy Yule     614061.5  44250.000000  3.000000"
            ]
          },
          "metadata": {
            "tags": []
          },
          "execution_count": 11
        }
      ]
    },
    {
      "cell_type": "code",
      "metadata": {
        "id": "i7ecoe0CNZsD",
        "colab": {
          "base_uri": "https://localhost:8080/",
          "height": 432
        },
        "outputId": "7ec6af1d-5b46-4ea4-8d73-8474a3baedef"
      },
      "source": [
        "pd.pivot_table(df,index=[\"Name\"])"
      ],
      "execution_count": null,
      "outputs": [
        {
          "output_type": "execute_result",
          "data": {
            "text/html": [
              "<div>\n",
              "<style scoped>\n",
              "    .dataframe tbody tr th:only-of-type {\n",
              "        vertical-align: middle;\n",
              "    }\n",
              "\n",
              "    .dataframe tbody tr th {\n",
              "        vertical-align: top;\n",
              "    }\n",
              "\n",
              "    .dataframe thead th {\n",
              "        text-align: right;\n",
              "    }\n",
              "</style>\n",
              "<table border=\"1\" class=\"dataframe\">\n",
              "  <thead>\n",
              "    <tr style=\"text-align: right;\">\n",
              "      <th></th>\n",
              "      <th>Account</th>\n",
              "      <th>Price</th>\n",
              "      <th>Quantity</th>\n",
              "    </tr>\n",
              "    <tr>\n",
              "      <th>Name</th>\n",
              "      <th></th>\n",
              "      <th></th>\n",
              "      <th></th>\n",
              "    </tr>\n",
              "  </thead>\n",
              "  <tbody>\n",
              "    <tr>\n",
              "      <th>Barton LLC</th>\n",
              "      <td>740150</td>\n",
              "      <td>35000</td>\n",
              "      <td>1.000000</td>\n",
              "    </tr>\n",
              "    <tr>\n",
              "      <th>Fritsch, Russel and Anderson</th>\n",
              "      <td>737550</td>\n",
              "      <td>35000</td>\n",
              "      <td>1.000000</td>\n",
              "    </tr>\n",
              "    <tr>\n",
              "      <th>Herman LLC</th>\n",
              "      <td>141962</td>\n",
              "      <td>65000</td>\n",
              "      <td>2.000000</td>\n",
              "    </tr>\n",
              "    <tr>\n",
              "      <th>Jerde-Hilpert</th>\n",
              "      <td>412290</td>\n",
              "      <td>5000</td>\n",
              "      <td>2.000000</td>\n",
              "    </tr>\n",
              "    <tr>\n",
              "      <th>Kassulke, Ondricka and Metz</th>\n",
              "      <td>307599</td>\n",
              "      <td>7000</td>\n",
              "      <td>3.000000</td>\n",
              "    </tr>\n",
              "    <tr>\n",
              "      <th>Keeling LLC</th>\n",
              "      <td>688981</td>\n",
              "      <td>100000</td>\n",
              "      <td>5.000000</td>\n",
              "    </tr>\n",
              "    <tr>\n",
              "      <th>Kiehn-Spinka</th>\n",
              "      <td>146832</td>\n",
              "      <td>65000</td>\n",
              "      <td>2.000000</td>\n",
              "    </tr>\n",
              "    <tr>\n",
              "      <th>Koepp Ltd</th>\n",
              "      <td>729833</td>\n",
              "      <td>35000</td>\n",
              "      <td>2.000000</td>\n",
              "    </tr>\n",
              "    <tr>\n",
              "      <th>Kulas Inc</th>\n",
              "      <td>218895</td>\n",
              "      <td>25000</td>\n",
              "      <td>1.500000</td>\n",
              "    </tr>\n",
              "    <tr>\n",
              "      <th>Purdy-Kunde</th>\n",
              "      <td>163416</td>\n",
              "      <td>30000</td>\n",
              "      <td>1.000000</td>\n",
              "    </tr>\n",
              "    <tr>\n",
              "      <th>Stokes LLC</th>\n",
              "      <td>239344</td>\n",
              "      <td>7500</td>\n",
              "      <td>1.000000</td>\n",
              "    </tr>\n",
              "    <tr>\n",
              "      <th>Trantow-Barrows</th>\n",
              "      <td>714466</td>\n",
              "      <td>15000</td>\n",
              "      <td>1.333333</td>\n",
              "    </tr>\n",
              "  </tbody>\n",
              "</table>\n",
              "</div>"
            ],
            "text/plain": [
              "                              Account   Price  Quantity\n",
              "Name                                                   \n",
              "Barton LLC                     740150   35000  1.000000\n",
              "Fritsch, Russel and Anderson   737550   35000  1.000000\n",
              "Herman LLC                     141962   65000  2.000000\n",
              "Jerde-Hilpert                  412290    5000  2.000000\n",
              "Kassulke, Ondricka and Metz    307599    7000  3.000000\n",
              "Keeling LLC                    688981  100000  5.000000\n",
              "Kiehn-Spinka                   146832   65000  2.000000\n",
              "Koepp Ltd                      729833   35000  2.000000\n",
              "Kulas Inc                      218895   25000  1.500000\n",
              "Purdy-Kunde                    163416   30000  1.000000\n",
              "Stokes LLC                     239344    7500  1.000000\n",
              "Trantow-Barrows                714466   15000  1.333333"
            ]
          },
          "metadata": {
            "tags": []
          },
          "execution_count": 10
        }
      ]
    },
    {
      "cell_type": "code",
      "metadata": {
        "id": "kmjDdMFpPHiz",
        "colab": {
          "base_uri": "https://localhost:8080/",
          "height": 432
        },
        "outputId": "b7acdef1-af95-47e4-9cd8-da1698e71808"
      },
      "source": [
        "pd.pivot_table(df,index=[\"Rep\",\"Name\",\"Manager\"])"
      ],
      "execution_count": null,
      "outputs": [
        {
          "output_type": "execute_result",
          "data": {
            "text/html": [
              "<div>\n",
              "<style scoped>\n",
              "    .dataframe tbody tr th:only-of-type {\n",
              "        vertical-align: middle;\n",
              "    }\n",
              "\n",
              "    .dataframe tbody tr th {\n",
              "        vertical-align: top;\n",
              "    }\n",
              "\n",
              "    .dataframe thead th {\n",
              "        text-align: right;\n",
              "    }\n",
              "</style>\n",
              "<table border=\"1\" class=\"dataframe\">\n",
              "  <thead>\n",
              "    <tr style=\"text-align: right;\">\n",
              "      <th></th>\n",
              "      <th></th>\n",
              "      <th></th>\n",
              "      <th>Account</th>\n",
              "      <th>Price</th>\n",
              "      <th>Quantity</th>\n",
              "    </tr>\n",
              "    <tr>\n",
              "      <th>Rep</th>\n",
              "      <th>Name</th>\n",
              "      <th>Manager</th>\n",
              "      <th></th>\n",
              "      <th></th>\n",
              "      <th></th>\n",
              "    </tr>\n",
              "  </thead>\n",
              "  <tbody>\n",
              "    <tr>\n",
              "      <th rowspan=\"3\" valign=\"top\">Cedric Moss</th>\n",
              "      <th>Herman LLC</th>\n",
              "      <th>Fred Anderson</th>\n",
              "      <td>141962</td>\n",
              "      <td>65000</td>\n",
              "      <td>2.000000</td>\n",
              "    </tr>\n",
              "    <tr>\n",
              "      <th>Purdy-Kunde</th>\n",
              "      <th>Fred Anderson</th>\n",
              "      <td>163416</td>\n",
              "      <td>30000</td>\n",
              "      <td>1.000000</td>\n",
              "    </tr>\n",
              "    <tr>\n",
              "      <th>Stokes LLC</th>\n",
              "      <th>Fred Anderson</th>\n",
              "      <td>239344</td>\n",
              "      <td>7500</td>\n",
              "      <td>1.000000</td>\n",
              "    </tr>\n",
              "    <tr>\n",
              "      <th rowspan=\"2\" valign=\"top\">Craig Booker</th>\n",
              "      <th>Fritsch, Russel and Anderson</th>\n",
              "      <th>Debra Henley</th>\n",
              "      <td>737550</td>\n",
              "      <td>35000</td>\n",
              "      <td>1.000000</td>\n",
              "    </tr>\n",
              "    <tr>\n",
              "      <th>Trantow-Barrows</th>\n",
              "      <th>Debra Henley</th>\n",
              "      <td>714466</td>\n",
              "      <td>15000</td>\n",
              "      <td>1.333333</td>\n",
              "    </tr>\n",
              "    <tr>\n",
              "      <th rowspan=\"2\" valign=\"top\">Daniel Hilton</th>\n",
              "      <th>Kiehn-Spinka</th>\n",
              "      <th>Debra Henley</th>\n",
              "      <td>146832</td>\n",
              "      <td>65000</td>\n",
              "      <td>2.000000</td>\n",
              "    </tr>\n",
              "    <tr>\n",
              "      <th>Kulas Inc</th>\n",
              "      <th>Debra Henley</th>\n",
              "      <td>218895</td>\n",
              "      <td>25000</td>\n",
              "      <td>1.500000</td>\n",
              "    </tr>\n",
              "    <tr>\n",
              "      <th rowspan=\"2\" valign=\"top\">John Smith</th>\n",
              "      <th>Barton LLC</th>\n",
              "      <th>Debra Henley</th>\n",
              "      <td>740150</td>\n",
              "      <td>35000</td>\n",
              "      <td>1.000000</td>\n",
              "    </tr>\n",
              "    <tr>\n",
              "      <th>Jerde-Hilpert</th>\n",
              "      <th>Debra Henley</th>\n",
              "      <td>412290</td>\n",
              "      <td>5000</td>\n",
              "      <td>2.000000</td>\n",
              "    </tr>\n",
              "    <tr>\n",
              "      <th rowspan=\"3\" valign=\"top\">Wendy Yule</th>\n",
              "      <th>Kassulke, Ondricka and Metz</th>\n",
              "      <th>Fred Anderson</th>\n",
              "      <td>307599</td>\n",
              "      <td>7000</td>\n",
              "      <td>3.000000</td>\n",
              "    </tr>\n",
              "    <tr>\n",
              "      <th>Keeling LLC</th>\n",
              "      <th>Fred Anderson</th>\n",
              "      <td>688981</td>\n",
              "      <td>100000</td>\n",
              "      <td>5.000000</td>\n",
              "    </tr>\n",
              "    <tr>\n",
              "      <th>Koepp Ltd</th>\n",
              "      <th>Fred Anderson</th>\n",
              "      <td>729833</td>\n",
              "      <td>35000</td>\n",
              "      <td>2.000000</td>\n",
              "    </tr>\n",
              "  </tbody>\n",
              "</table>\n",
              "</div>"
            ],
            "text/plain": [
              "                                                          Account  ...  Quantity\n",
              "Rep           Name                         Manager                 ...          \n",
              "Cedric Moss   Herman LLC                   Fred Anderson   141962  ...  2.000000\n",
              "              Purdy-Kunde                  Fred Anderson   163416  ...  1.000000\n",
              "              Stokes LLC                   Fred Anderson   239344  ...  1.000000\n",
              "Craig Booker  Fritsch, Russel and Anderson Debra Henley    737550  ...  1.000000\n",
              "              Trantow-Barrows              Debra Henley    714466  ...  1.333333\n",
              "Daniel Hilton Kiehn-Spinka                 Debra Henley    146832  ...  2.000000\n",
              "              Kulas Inc                    Debra Henley    218895  ...  1.500000\n",
              "John Smith    Barton LLC                   Debra Henley    740150  ...  1.000000\n",
              "              Jerde-Hilpert                Debra Henley    412290  ...  2.000000\n",
              "Wendy Yule    Kassulke, Ondricka and Metz  Fred Anderson   307599  ...  3.000000\n",
              "              Keeling LLC                  Fred Anderson   688981  ...  5.000000\n",
              "              Koepp Ltd                    Fred Anderson   729833  ...  2.000000\n",
              "\n",
              "[12 rows x 3 columns]"
            ]
          },
          "metadata": {
            "tags": []
          },
          "execution_count": 13
        }
      ]
    },
    {
      "cell_type": "code",
      "metadata": {
        "id": "4ogTGHPsQuH_"
      },
      "source": [
        "str1 = 'hello World!'\n",
        "str2 = \"Python Program\""
      ],
      "execution_count": null,
      "outputs": []
    },
    {
      "cell_type": "code",
      "metadata": {
        "id": "CH5DfItMQxY4",
        "colab": {
          "base_uri": "https://localhost:8080/",
          "height": 35
        },
        "outputId": "4d1a820c-f0c5-47b9-a4d4-c2747a276d3a"
      },
      "source": [
        "str1[0:6]"
      ],
      "execution_count": null,
      "outputs": [
        {
          "output_type": "execute_result",
          "data": {
            "application/vnd.google.colaboratory.intrinsic+json": {
              "type": "string"
            },
            "text/plain": [
              "'Hello '"
            ]
          },
          "metadata": {
            "tags": []
          },
          "execution_count": 15
        }
      ]
    },
    {
      "cell_type": "code",
      "metadata": {
        "id": "65ijhQ8ZRRbl",
        "colab": {
          "base_uri": "https://localhost:8080/",
          "height": 34
        },
        "outputId": "117b529b-11bc-40c4-c88d-017bf989d8db"
      },
      "source": [
        "str1.isupper()"
      ],
      "execution_count": null,
      "outputs": [
        {
          "output_type": "execute_result",
          "data": {
            "text/plain": [
              "False"
            ]
          },
          "metadata": {
            "tags": []
          },
          "execution_count": 26
        }
      ]
    },
    {
      "cell_type": "code",
      "metadata": {
        "id": "XUP6-4rnRx0N",
        "colab": {
          "base_uri": "https://localhost:8080/",
          "height": 34
        },
        "outputId": "e3701bcf-70ea-4bf9-8f52-1e657c6ee12e"
      },
      "source": [
        " str1.islower()"
      ],
      "execution_count": null,
      "outputs": [
        {
          "output_type": "execute_result",
          "data": {
            "text/plain": [
              "False"
            ]
          },
          "metadata": {
            "tags": []
          },
          "execution_count": 27
        }
      ]
    },
    {
      "cell_type": "code",
      "metadata": {
        "id": "aOpzdZX6SBgL",
        "colab": {
          "base_uri": "https://localhost:8080/",
          "height": 34
        },
        "outputId": "1b3ab44f-bd34-40fd-a331-84284b6fac6a"
      },
      "source": [
        "str = \"lets test the function\";\n",
        "print (\"str.capitalize() : \", str.capitalize())"
      ],
      "execution_count": null,
      "outputs": [
        {
          "output_type": "stream",
          "text": [
            "str.capitalize() :  Lets test the function\n"
          ],
          "name": "stdout"
        }
      ]
    },
    {
      "cell_type": "code",
      "metadata": {
        "id": "xa-zgwzmTBLT",
        "colab": {
          "base_uri": "https://localhost:8080/",
          "height": 50
        },
        "outputId": "68c6143a-3f7c-4c91-eb79-fe9d2bd8cb32"
      },
      "source": [
        "str = \"lets test the function\";\n",
        "print (str.islower())\n",
        "str = \"lets Test the function\";\n",
        "print (str.islower())"
      ],
      "execution_count": null,
      "outputs": [
        {
          "output_type": "stream",
          "text": [
            "True\n",
            "False\n"
          ],
          "name": "stdout"
        }
      ]
    }
  ]
}